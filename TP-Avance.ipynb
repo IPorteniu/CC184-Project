{
  "nbformat": 4,
  "nbformat_minor": 0,
  "metadata": {
    "colab": {
      "name": "Untitled5.ipynb",
      "provenance": [],
      "authorship_tag": "ABX9TyPJ855XMu+lMvFJVSTtrGcv",
      "include_colab_link": true
    },
    "kernelspec": {
      "name": "python3",
      "display_name": "Python 3"
    }
  },
  "cells": [
    {
      "cell_type": "markdown",
      "metadata": {
        "id": "view-in-github",
        "colab_type": "text"
      },
      "source": [
        "<a href=\"https://colab.research.google.com/github/IPorteniu/CC184-Project/blob/master/TP-Avance.ipynb\" target=\"_parent\"><img src=\"https://colab.research.google.com/assets/colab-badge.svg\" alt=\"Open In Colab\"/></a>"
      ]
    },
    {
      "cell_type": "code",
      "metadata": {
        "id": "RLuDgNz5-4lB"
      },
      "source": [
        "class Board:\n",
        "  def __init__(self,h,w):\n",
        "    self.h = h\n",
        "    self.w = w\n",
        "    self.G = nx.grid_2d_graph(h,w)\n",
        "    pos = dict( (n,n) for n in G.nodes() )\n",
        "    labels = dict ( ((i,j), i + (h-1-j) * w) for i, j in G.nodes())\n",
        "    nx.draw_networkx(G,pos=pos,labels=labels)\n",
        "    plt.axis('off')\n",
        "  def reset_Board():\n",
        " ##Reiniciar tablero\n",
        "  def draw_info():\n",
        "  ##Info como quien gano\n",
        "  def get_newboard():\n",
        "   ##crear un tablero\n",
        "  def get_h(self):\n",
        "    return self.h\n",
        "  def get_w(self):\n",
        "    return self.w\n",
        "  def get_graph(self):\n",
        "    return self.G"
      ],
      "execution_count": null,
      "outputs": []
    },
    {
      "cell_type": "code",
      "metadata": {
        "id": "ghujIij3-2nB"
      },
      "source": [
        "class Player:\n",
        "  def __init__():\n",
        "\n",
        "  def make_move():\n",
        "  \n",
        "  def get_Name():\n",
        "  \n",
        "  def build_wall():\n",
        "  \n",
        "  def get_position():"
      ],
      "execution_count": null,
      "outputs": []
    },
    {
      "cell_type": "code",
      "metadata": {
        "id": "vqLv0MF3-0LY"
      },
      "source": [
        "class Game():\n",
        "  def __init():\n",
        "  \n",
        "\n",
        "  def start_screen():\n",
        "\n",
        "  def players_turns():\n",
        "  \n",
        "  def load_start_game():"
      ],
      "execution_count": null,
      "outputs": []
    }
  ]
}